{
 "cells": [
  {
   "cell_type": "markdown",
   "metadata": {},
   "source": [
    "# Analysis of NeXT cube monitor bus"
   ]
  },
  {
   "cell_type": "markdown",
   "metadata": {},
   "source": [
    "## Verilog_VCD module by ???"
   ]
  },
  {
   "cell_type": "code",
   "execution_count": 1,
   "metadata": {
    "collapsed": false
   },
   "outputs": [],
   "source": [
    "# This is a manual translation, from perl to python, of :\n",
    "# http://cpansearch.perl.org/src/GSULLIVAN/Verilog-VCD-0.03/lib/Verilog/VCD.pm \n",
    "\n",
    "import re\n",
    "\n",
    "global timescale\n",
    "global endtime\n",
    "\n",
    "def croak(*args):\n",
    "  \"\"\"Function similar to Perl's Carp::croak, to simplify porting this code\"\"\"\n",
    "  a = \"\".join(args);\n",
    "  raise Exception(a)\n",
    "\n",
    "def list_sigs(file) :\n",
    "    \"\"\"Parse input VCD file into data structure, \n",
    "    then return just a list of the signal names.\"\"\"\n",
    "\n",
    "    vcd = parse_vcd(file, only_sigs=1)\n",
    "\n",
    "    sigs = []\n",
    "    for k in list(vcd.keys()):\n",
    "        v = vcd[k]\n",
    "        nets = v['nets']\n",
    "        sigs.extend( n['hier']+'.'+n['name'] for n in nets )\n",
    "    \n",
    "    return sigs\n",
    "\n",
    "\n",
    "def parse_vcd(file, only_sigs=0, use_stdout=0, siglist=[], opt_timescale=''):\n",
    "    \"\"\"Parse input VCD file into data structure.\n",
    "    Also, print t-v pairs to STDOUT, if requested.\"\"\"\n",
    "\n",
    "    global endtime\n",
    "\n",
    "    usigs = {}\n",
    "    for i in siglist:\n",
    "        usigs[i] = 1\n",
    "\n",
    "    if len(usigs):\n",
    "        all_sigs = 0\n",
    "    else :\n",
    "        all_sigs = 1\n",
    "\n",
    "    data = {}\n",
    "    mult = 0\n",
    "    num_sigs = 0\n",
    "    hier = []\n",
    "    time = 0\n",
    "\n",
    "    re_time    = re.compile(r\"^#(\\d+)\")\n",
    "    re_1b_val  = re.compile(r\"^([01zxZX])(.+)\")\n",
    "    re_Nb_val  = re.compile(r\"^[br](\\S+)\\s+(.+)\")\n",
    "\n",
    "    fh = open(file, 'r')\n",
    "    while True:\n",
    "        line = fh.readline()\n",
    "        if line == '' : # EOF\n",
    "          break\n",
    "\n",
    "        # chomp\n",
    "        # s/ ^ \\s+ //x\n",
    "        line = line.strip()\n",
    "\n",
    "        if \"$enddefinitions\" in line:\n",
    "            num_sigs = len(data)\n",
    "            if (num_sigs == 0) :\n",
    "                if (all_sigs) :\n",
    "                    croak(\"Error: No signals were found in the VCD file file.\",\n",
    "                          'Check the VCD file for proper var syntax.')\n",
    "                \n",
    "                else :\n",
    "                    croak(\"Error: No matching signals were found in the VCD file file.\",\n",
    "                          ' Use list_sigs to view all signals in the VCD file.')\n",
    "                \n",
    "            \n",
    "            if ((num_sigs>1) and use_stdout) :\n",
    "                croak(\"Error: There are too many signals (num_sigs) for output \",\n",
    "                      'to STDOUT.  Use list_sigs to select a single signal.')\n",
    "            \n",
    "            if only_sigs:\n",
    "                break\n",
    "\n",
    "\n",
    "        elif \"$timescale\" in line:\n",
    "            statement = line\n",
    "            if not \"$end\" in line:\n",
    "                while fh :\n",
    "                    line = fh.readline()\n",
    "                    statement += line\n",
    "                    if \"$end\" in line:\n",
    "                      break\n",
    "            \n",
    "            mult = calc_mult(statement, opt_timescale)\n",
    "        \n",
    "\n",
    "        elif \"$scope\" in line:\n",
    "            # assumes all on one line\n",
    "            #   $scope module dff end\n",
    "            hier.append( line.split()[2] ) # just keep scope name\n",
    "        \n",
    "        elif \"$upscope\" in line:\n",
    "            hier.pop()\n",
    "        \n",
    "        elif \"$var\" in line:\n",
    "            # assumes all on one line:\n",
    "            #   $var reg 1 *@ data $end\n",
    "            #   $var wire 4 ) addr [3:0] $end\n",
    "            ls = line.split()\n",
    "            type = ls[1]\n",
    "            size = ls[2]\n",
    "            code = ls[3]\n",
    "            name = \"\".join(ls[4:-1])\n",
    "            path = '.'.join(hier)\n",
    "            full_name = path + name\n",
    "            if (full_name in usigs) or all_sigs :\n",
    "              if code not in data :\n",
    "                data[code] = {}\n",
    "              if 'nets' not in data[code]:\n",
    "                data[code]['nets'] = []\n",
    "              var_struct = {\n",
    "                  'type' : type,\n",
    "                  'name' : name,\n",
    "                  'size' : size,\n",
    "                  'hier' : path,\n",
    "               } \n",
    "              if var_struct not in data[code]['nets']:\n",
    "                data[code]['nets'].append( var_struct )\n",
    "        \n",
    "\n",
    "        elif line.startswith('#'):\n",
    "            re_time_match   = re_time.match(line)\n",
    "            time = mult * int(re_time_match.group(1))\n",
    "            endtime = time\n",
    "        \n",
    "\n",
    "        elif line.startswith(('0', '1', 'x', 'z', 'b', 'r', 'Z', 'X')):\n",
    "            re_1b_val_match = re_1b_val.match(line)\n",
    "            re_Nb_val_match = re_Nb_val.match(line)\n",
    "            if re_Nb_val_match :\n",
    "              value = re_Nb_val_match.group(1)\n",
    "              code  = re_Nb_val_match.group(2)\n",
    "            elif re_1b_val_match :\n",
    "              value = re_1b_val_match.group(1)\n",
    "              code  = re_1b_val_match.group(2)\n",
    "            if (code in data) :\n",
    "                if (use_stdout) :\n",
    "                    print(time, value)\n",
    "                else :\n",
    "                    if 'tv' not in data[code]:\n",
    "                      data[code]['tv'] = []\n",
    "                    data[code]['tv'].append( (time, value) )\n",
    "                \n",
    "            \n",
    "        \n",
    "    \n",
    "    fh.close()\n",
    "\n",
    "    return data\n",
    "\n",
    "\n",
    "def calc_mult (statement, opt_timescale=''):\n",
    "    \"\"\" \n",
    "    Calculate a new multiplier for time values.\n",
    "    Input statement is complete timescale, for example:\n",
    "      timescale 10ns end\n",
    "    Input new_units is one of s|ms|us|ns|ps|fs.\n",
    "    Return numeric multiplier.\n",
    "    Also sets the package timescale variable.\n",
    "    \"\"\" \n",
    "\n",
    "    global timescale\n",
    "\n",
    "    fields = statement.split()\n",
    "    fields.pop()   # delete end from array\n",
    "    fields.pop(0)  # delete timescale from array\n",
    "    tscale = ''.join(fields)\n",
    "\n",
    "    new_units = ''\n",
    "    if (opt_timescale != ''):\n",
    "        new_units = opt_timescale.lower()\n",
    "        new_units = re.sub(r\"\\s\", '', new_units)\n",
    "        timescale = \"1\"+new_units\n",
    "    \n",
    "    else :\n",
    "        timescale = tscale\n",
    "        return 1\n",
    "    \n",
    "\n",
    "    mult = 0\n",
    "    units = 0\n",
    "    ts_match = re.compile(r\"(\\d+)([a-z]+)\")\n",
    "    if ts_match.match(tscale):\n",
    "        mult  = ts_match.group(1)\n",
    "        units = ts_match.group(2).lower()\n",
    "    \n",
    "    else :\n",
    "        croak(\"Error: Unsupported timescale found in VCD file: tscale.  \",\n",
    "              'Refer to the Verilog LRM.')\n",
    "    \n",
    "\n",
    "    mults = {\n",
    "        'fs' : 1e-15,\n",
    "        'ps' : 1e-12,\n",
    "        'ns' : 1e-09,\n",
    "        'us' : 1e-06,\n",
    "        'ms' : 1e-03,\n",
    "         's' : 1e-00,\n",
    "    }\n",
    "    mults_keys = keys(mults)\n",
    "    mults_keys.sort(key=lambda x : mults[x])\n",
    "    usage = '|'.join(mults_keys)\n",
    "\n",
    "    scale = 0\n",
    "    if units in mults :\n",
    "        scale = mults[units]\n",
    "    \n",
    "    else :\n",
    "        croak(\"Error: Unsupported timescale units found in VCD file: \"+units+\".  \",\n",
    "              \"Supported values are: \"+usage)\n",
    "    \n",
    "\n",
    "    new_scale = 0\n",
    "    if new_units in mults :\n",
    "        new_scale = mults[new_units]\n",
    "    \n",
    "    else :\n",
    "        croak(\"Error: Illegal user-supplied timescale: \"+new_units+\".  \",\n",
    "              \"Legal values are: \"+usage)\n",
    "    \n",
    "\n",
    "    return ((mult * scale) / new_scale)\n",
    "\n",
    "\n",
    "def get_timescale() :\n",
    "    return timescale\n",
    "\n",
    "\n",
    "def get_endtime() :\n",
    "    return endtime\n",
    "\n",
    "\n",
    "\n",
    "# =head1 NAME\n",
    "# \n",
    "# Verilog_VCD - Parse a Verilog VCD text file\n",
    "# \n",
    "# =head1 VERSION\n",
    "# \n",
    "# This document refers to Verilog::VCD version 0.03.\n",
    "# \n",
    "# =head1 SYNOPSIS\n",
    "# \n",
    "#     from Verilog_VCD import parse_vcd\n",
    "#     vcd = parse_vcd('/path/to/some.vcd')\n",
    "# \n",
    "# =head1 DESCRIPTION\n",
    "# \n",
    "# Verilog is a Hardware Description Language (HDL) used to model digital logic.\n",
    "# While simulating logic circuits, the values of signals can be written out to\n",
    "# a Value Change Dump (VCD) file.  This module can be used to parse a VCD file\n",
    "# so that further analysis can be performed on the simulation data.  The entire\n",
    "# VCD file can be stored in a Python data structure and manipulated using\n",
    "# standard hash and array operations.  This module is also a good helper for\n",
    "# parsing fsdb files, since you can run fsd2vcd(part of the novas installation)\n",
    "# to convert them to the vcd format and then use this module.\n",
    "# \n",
    "# =head2 Input File Syntax\n",
    "# \n",
    "# The syntax of the VCD text file is described in the documentation of\n",
    "# the IEEE standard for Verilog.  Only the four-state VCD format is supported.\n",
    "# The extended VCD format (with strength information) is not supported.\n",
    "# Since the input file is assumed to be legal VCD syntax, only minimal\n",
    "# validation is performed.\n",
    "# \n",
    "# =head1 SUBROUTINES\n",
    "# \n",
    "# \n",
    "# =head2 parse_vcd(file, $opt_ref)\n",
    "# \n",
    "# Parse a VCD file and return a reference to a data structure which\n",
    "# includes hierarchical signal definitions and time-value data for all\n",
    "# the specified signals.  A file name is required.  By default, all\n",
    "# signals in the VCD file are included, and times are in units\n",
    "# specified by the C<$timescale> VCD keyword.\n",
    "# \n",
    "#     vcd = parse_vcd('/path/to/some.vcd')\n",
    "# \n",
    "# It returns a reference to a nested data structure.  The top of the\n",
    "# structure is a Hash-of-Hashes.  The keys to the top hash are the VCD\n",
    "# identifier codes for each signal.  The following is an example\n",
    "# representation of a very simple VCD file.  It shows one signal named\n",
    "# C<chip.cpu.alu.clk>, whose VCD code is C<+>.  The time-value pairs\n",
    "# are stored as an Array-of-Tuples, referenced by the C<tv> key.  The\n",
    "# time is always the first number in the pair, and the times are stored in\n",
    "# increasing order in the array.\n",
    "# \n",
    "#     {\n",
    "#       '+' : {\n",
    "#                'tv' : [\n",
    "#                          (\n",
    "#                            0,\n",
    "#                            '1'\n",
    "#                          ),\n",
    "#                          (\n",
    "#                            12,\n",
    "#                            '0'\n",
    "#                          ),\n",
    "#                        ],\n",
    "#                'nets' : [\n",
    "#                            {\n",
    "#                              'hier' : 'chip.cpu.alu.',\n",
    "#                              'name' : 'clk',\n",
    "#                              'type' : 'reg',\n",
    "#                              'size' : '1'\n",
    "#                            }\n",
    "#                          ]\n",
    "#              }\n",
    "#     }\n",
    "# \n",
    "# Since each code could have multiple hierarchical signal names, the names are\n",
    "# stored as an Array-of-Hashes, referenced by the C<nets> key.  The example above\n",
    "# only shows one signal name for the code.\n",
    "# \n",
    "# \n",
    "# =head3 OPTIONS\n",
    "# \n",
    "# Options to C<parse_vcd> should be passed as a hash reference.\n",
    "# \n",
    "# =over 4\n",
    "# \n",
    "# =item timescale\n",
    "# \n",
    "# It is possible to scale all times in the VCD file to a desired timescale.\n",
    "# To specify a certain timescale, such as nanoseconds:\n",
    "# \n",
    "#     vcd = parse_vcd(file, opt_timescale='ns'})\n",
    "# \n",
    "# Valid timescales are:\n",
    "# \n",
    "#     s ms us ns ps fs\n",
    "# \n",
    "# =item siglist\n",
    "# \n",
    "# If only a subset of the signals included in the VCD file are needed,\n",
    "# they can be specified by a signal list passed as an array reference.\n",
    "# The signals should be full hierarchical paths separated by the dot\n",
    "# character.  For example:\n",
    "# \n",
    "#     signals = [\n",
    "#         'top.chip.clk',\n",
    "#         'top.chip.cpu.alu.status',\n",
    "#         'top.chip.cpu.alu.sum[15:0]',\n",
    "#     ]\n",
    "#     vcd = parse_vcd(file, siglist=signals)\n",
    "# \n",
    "# Limiting the number of signals can substantially reduce memory usage of the\n",
    "# returned data structure because only the time-value data for the selected\n",
    "# signals is loaded into the data structure.\n",
    "# \n",
    "# =item use_stdout\n",
    "# \n",
    "# It is possible to print time-value pairs directly to STDOUT for a\n",
    "# single signal using the C<use_stdout> option.  If the VCD file has\n",
    "# more than one signal, the C<siglist> option must also be used, and there\n",
    "# must only be one signal specified.  For example:\n",
    "# \n",
    "#     vcd = parse_vcd(file, \n",
    "#                     use_stdout=1,\n",
    "#                     siglist=['top.clk']\n",
    "#                 )\n",
    "# \n",
    "# The time-value pairs are output as space-separated tokens, one per line.\n",
    "# For example:\n",
    "# \n",
    "#     0 x\n",
    "#     15 0\n",
    "#     277 1\n",
    "#     500 0\n",
    "# \n",
    "# Times are listed in the first column.\n",
    "# Times units can be controlled by the C<timescale> option.\n",
    "# \n",
    "# =item only_sigs\n",
    "# \n",
    "# Parse a VCD file and return a reference to a data structure which\n",
    "# includes only the hierarchical signal definitions.  Parsing stops once\n",
    "# all signals have been found.  Therefore, no time-value data are\n",
    "# included in the returned data structure.  This is useful for\n",
    "# analyzing signals and hierarchies.\n",
    "# \n",
    "#     vcd = parse_vcd(file, only_sigs=1)\n",
    "# \n",
    "# =back\n",
    "# \n",
    "# \n",
    "# =head2 list_sigs(file)\n",
    "# \n",
    "# Parse a VCD file and return a list of all signals in the VCD file.\n",
    "# Parsing stops once all signals have been found.  This is\n",
    "# helpful for deciding how to limit what signals are parsed.\n",
    "# \n",
    "# Here is an example:\n",
    "# \n",
    "#     signals = list_sigs('input.vcd')\n",
    "# \n",
    "# The signals are full hierarchical paths separated by the dot character\n",
    "# \n",
    "#     top.chip.cpu.alu.status\n",
    "#     top.chip.cpu.alu.sum[15:0]\n",
    "# \n",
    "# =head2 get_timescale( )\n",
    "# \n",
    "# This returns a string corresponding to the timescale as specified\n",
    "# by the C<$timescale> VCD keyword.  It returns the timescale for\n",
    "# the last VCD file parsed.  If called before a file is parsed, it\n",
    "# returns an undefined value.  If the C<parse_vcd> C<timescale> option\n",
    "# was used to specify a timescale, the specified value will be returned\n",
    "# instead of what is in the VCD file.\n",
    "# \n",
    "#     vcd = parse_vcd(file); # Parse a file first\n",
    "#     ts  = get_timescale();  # Then query the timescale\n",
    "# \n",
    "# =head2 get_endtime( )\n",
    "# \n",
    "# This returns the last time found in the VCD file, scaled\n",
    "# appropriately.  It returns the last time for the last VCD file parsed.\n",
    "# If called before a file is parsed, it returns an undefined value.\n",
    "# \n",
    "#     vcd = parse_vcd(file); # Parse a file first\n",
    "#     et  = get_endtime();    # Then query the endtime\n",
    "# \n",
    "# =head1 EXPORT\n",
    "# \n",
    "# Nothing is exported by default.  Functions may be exported individually, or\n",
    "# all functions may be exported at once, using the special tag C<:all>.\n",
    "# \n",
    "# =head1 DIAGNOSTICS\n",
    "# \n",
    "# Error conditions cause the program to raise an Exception.\n",
    "# \n",
    "# =head1 LIMITATIONS\n",
    "# \n",
    "# Only the following VCD keywords are parsed:\n",
    "# \n",
    "#     $end                $scope\n",
    "#     $enddefinitions     $upscope\n",
    "#     $timescale          $var\n",
    "# \n",
    "# The extended VCD format (with strength information) is not supported.\n",
    "# \n",
    "# The default mode of C<parse_vcd> is to load the entire VCD file into the\n",
    "# data structure.  This could be a problem for huge VCD files.  The best solution\n",
    "# to any memory problem is to plan ahead and keep VCD files as small as possible.\n",
    "# When simulating, dump fewer signals and scopes, and use shorter dumping\n",
    "# time ranges.  Another technique is to parse only a small list of signals\n",
    "# using the C<siglist> option; this method only loads the desired signals into\n",
    "# the data structure.  Finally, the C<use_stdout> option will parse the input VCD\n",
    "# file line-by-line, instead of loading it into the data structure, and directly\n",
    "# prints time-value data to STDOUT.  The drawback is that this only applies to\n",
    "# one signal.\n",
    "# \n",
    "# =head1 BUGS\n",
    "# \n",
    "# There are no known bugs in this module.\n",
    "# \n",
    "# =head1 SEE ALSO\n",
    "# \n",
    "# Refer to the following Verilog documentation:\n",
    "# \n",
    "#     IEEE Standard for Verilog (c) Hardware Description Language\n",
    "#     IEEE Std 1364-2005\n",
    "#     Section 18.2, \"Format of four-state VCD file\"\n",
    "# \n",
    "# =head1 AUTHOR\n",
    "# \n",
    "# Originally written in Perl by Gene Sullivan (gsullivan@cpan.org)\n",
    "# Translated into Python by Sameer Gauria (sgauria+python@gmail.com)\n",
    "#\n",
    "# Plus the following patches :\n",
    "#  - Scott Chin : Handle upper-case values in VCD file.\n",
    "#  - Sylvain Guilley : Fixed bugs in list_sigs.\n",
    "#  - Bogdan Tabacaru : Fix bugs in globalness of timescale and endtime\n",
    "#  - Andrew Becker : Fix bug in list_sigs\n",
    "# Thanks!\n",
    "# \n",
    "# =head1 COPYRIGHT AND LICENSE\n",
    "# \n",
    "# Copyright (c) 2012 Gene Sullivan, Sameer Gauria.  All rights reserved.\n",
    "# \n",
    "# This module is free software; you can redistribute it and/or modify\n",
    "# it under the same terms as Perl itself.  See L<perlartistic|perlartistic>.\n",
    "# \n",
    "# =cut\n",
    "\n"
   ]
  },
  {
   "cell_type": "markdown",
   "metadata": {},
   "source": [
    "***\n",
    "## IMPORTS"
   ]
  },
  {
   "cell_type": "code",
   "execution_count": 178,
   "metadata": {
    "collapsed": false
   },
   "outputs": [],
   "source": [
    "import matplotlib.pyplot as plt\n",
    "% matplotlib inline\n",
    "# NB: this will propbably carry over to other pyplot stuff... neeed to unset it\n",
    "plt.rcParams['figure.figsize'] = (16.0, 4.0)\n",
    "#from bokeh.charts import Step, show\n",
    "#from bokeh.io import output_notebook\n",
    "import numpy as np\n",
    "from collections import OrderedDict\n",
    "#output_notebook()\n",
    "from statistics import median, mean, stdev"
   ]
  },
  {
   "cell_type": "markdown",
   "metadata": {},
   "source": [
    "***\n",
    "## DATA LOADING AND STORAGE"
   ]
  },
  {
   "cell_type": "code",
   "execution_count": 3,
   "metadata": {
    "collapsed": true
   },
   "outputs": [],
   "source": [
    "class VcdSignal:\n",
    "    def __init__(self, raw_data):\n",
    "        '''raw_data is a bit of a misnomer, \n",
    "        because its a single key/value of the output of parse_vcd '''\n",
    "        self.data = [(p, int(q)) for p,q in raw_data['tv']]\n",
    "        nets_data = raw_data['nets'][0]\n",
    "        [setattr(self,key,nets_data[key]) for key in iter(nets_data)]"
   ]
  },
  {
   "cell_type": "code",
   "execution_count": 4,
   "metadata": {
    "collapsed": true
   },
   "outputs": [],
   "source": [
    "def steppy(data):\n",
    "    ''' this does two things:\n",
    "    first, reshapes [(x,y)...(xn,yn)] to [(x1...xn), (y1...yn)] because pyplot is ridiculous\n",
    "    second, inserts \"corners\" into data so it plots as step chart\n",
    "    does NOT plot it.\n",
    "    still needs to be plotted as plot(*steppy(data)) because fucking pyplot'''\n",
    "    newdata = []\n",
    "    newdata.append(data[0])\n",
    "    for pt in data[1:]:\n",
    "        newdata.append((pt[0],(1,0)[pt[1]]))\n",
    "        newdata.append(pt)\n",
    "        \n",
    "    return list(zip(*newdata))[0], list(zip(*newdata))[1]"
   ]
  },
  {
   "cell_type": "code",
   "execution_count": 5,
   "metadata": {
    "collapsed": true
   },
   "outputs": [],
   "source": [
    "file = 'mash_a.vcd'"
   ]
  },
  {
   "cell_type": "code",
   "execution_count": 6,
   "metadata": {
    "collapsed": false
   },
   "outputs": [],
   "source": [
    "data = parse_vcd(file)"
   ]
  },
  {
   "cell_type": "code",
   "execution_count": 7,
   "metadata": {
    "collapsed": false
   },
   "outputs": [],
   "source": [
    "signals = [s for s in data.keys()] # not the signal names\n",
    "signals\n",
    "signalNames = {'CLOCK':'#','MOCI':'\"','MICO':'!'} # NB watch me"
   ]
  },
  {
   "cell_type": "code",
   "execution_count": 126,
   "metadata": {
    "collapsed": false
   },
   "outputs": [],
   "source": [
    "# Clock signal is too much for pyplot!\n",
    "# NB ordering of [signals] changes\n",
    "moci = VcdSignal(data[signalNames['MOCI']])\n",
    "mico = VcdSignal(data[signalNames['MICO']])"
   ]
  },
  {
   "cell_type": "code",
   "execution_count": 9,
   "metadata": {
    "collapsed": false,
    "scrolled": true
   },
   "outputs": [],
   "source": [
    "## A timeseries chart in bokeh.\n",
    "#t = list(zip(*test.data))[0]\n",
    "#v = list(zip(*test.data))[1]\n",
    "#blah = dict(x=t,y=v)\n",
    "#ch = Step(blah, x='x',y='y');\n",
    "#show(ch)"
   ]
  },
  {
   "cell_type": "code",
   "execution_count": 187,
   "metadata": {
    "collapsed": false
   },
   "outputs": [
    {
     "data": {
      "text/plain": [
       "[<matplotlib.lines.Line2D at 0x7fc4fcd2e128>]"
      ]
     },
     "execution_count": 187,
     "metadata": {},
     "output_type": "execute_result"
    },
    {
     "data": {
      "image/png": "[encoded data removed]",
      "text/plain": [
       "<matplotlib.figure.Figure at 0x7fc4ffc48160>"
      ]
     },
     "metadata": {},
     "output_type": "display_data"
    }
   ],
   "source": [
    "plt.plot(*steppy(moci.data))"
   ]
  },
  {
   "cell_type": "markdown",
   "metadata": {},
   "source": [
    "___\n",
    "## TIMING STABILITY"
   ]
  },
  {
   "cell_type": "code",
   "execution_count": 11,
   "metadata": {
    "collapsed": false
   },
   "outputs": [
    {
     "data": {
      "text/plain": [
       "'1ns'"
      ]
     },
     "execution_count": 11,
     "metadata": {},
     "output_type": "execute_result"
    }
   ],
   "source": [
    "timescale # is global, baaaad"
   ]
  },
  {
   "cell_type": "code",
   "execution_count": 12,
   "metadata": {
    "collapsed": false
   },
   "outputs": [],
   "source": [
    "klok = VcdSignal(data[signalNames['CLOCK']])\n",
    "#clock_ones = list(filter(lambda k: k[1]==1, klok.data))\n",
    "#clock_zeros = list(filter(lambda k: k[1]==0, klok.data))\n",
    "#clock_ones_timings = [clock_ones[p+1][0]-clock_ones[p][0] for p in range(len(clock_ones)-1)]\n",
    "#clock_zeros_timings = [clock_zeros[p+1][0]-clock_zeros[p][0] for p in range(len(clock_zeros)-1)]\n",
    "clock_half_timings = [klok.data[p+1][0]-klok.data[p][0] for p in range(len(klok.data)-1)]"
   ]
  },
  {
   "cell_type": "code",
   "execution_count": 185,
   "metadata": {
    "collapsed": false
   },
   "outputs": [
    {
     "data": {
      "image/png": "[encoded data removed]",
      "text/plain": [
       "<matplotlib.figure.Figure at 0x7fc4fb60a240>"
      ]
     },
     "metadata": {},
     "output_type": "display_data"
    }
   ],
   "source": [
    "plt.plot(list(map(lambda x: x*2,clock_half_timings[1:50]))); # yowzer\n",
    "# on average it's pretty accurate\n",
    "# but, fuck\n",
    "clkmean = 2*mean(clock_half_timings);\n",
    "clkstd = 2*stdev(clock_half_timings);\n",
    "plt.title('mean: '+str(round(clkmean,2))+'ns\\n stdev: '+str(round(clkstd,2))+'ns');"
   ]
  },
  {
   "cell_type": "markdown",
   "metadata": {
    "collapsed": true
   },
   "source": [
    "***\n",
    "## SIGNAL PROCESSING"
   ]
  },
  {
   "cell_type": "code",
   "execution_count": 14,
   "metadata": {
    "collapsed": false
   },
   "outputs": [],
   "source": [
    "'''taken verbatim from itertools documentation!'''\n",
    "from itertools import islice, groupby\n",
    "\n",
    "def window(seq, n=2):\n",
    "    \"Returns a sliding window (of width n) over data from the iterable\"\n",
    "    \"   s -> (s0,s1,...s[n-1]), (s1,s2,...,sn), ...                   \"\n",
    "    it = iter(seq)\n",
    "    result = tuple(islice(it, n))\n",
    "    if len(result) == n:\n",
    "        yield result    \n",
    "    for elem in it:\n",
    "        result = result[1:] + (elem,)\n",
    "        yield result"
   ]
  },
  {
   "cell_type": "code",
   "execution_count": 24,
   "metadata": {
    "collapsed": true
   },
   "outputs": [],
   "source": [
    "def timeBaseline(data):\n",
    "    '''(t0, v) -> (t-t0 v)'''\n",
    "    t0 = data[0][0]\n",
    "    return list(map(lambda t: (t[0]-t0,t[1]), data))"
   ]
  },
  {
   "cell_type": "code",
   "execution_count": 136,
   "metadata": {
    "collapsed": false
   },
   "outputs": [],
   "source": [
    "def chunkSignals(data, timeout=100000):\n",
    "    '''splits up data [(t0, 1|0)...(tn, 1|0)] into chunks\n",
    "    based on time between events'''\n",
    "    # timescale is 1ns??\n",
    "    chunkedSignals = []\n",
    "    currentChunk = []\n",
    "    windowedData = window(data, n=2)\n",
    "    # could rewrite using itertools.groupby???\n",
    "    # could rewrite this a bunch of different ways\n",
    "    for d in windowedData:\n",
    "        if d[1][0]-d[0][0] > timeout:\n",
    "            chunkedSignals.append(currentChunk)\n",
    "            currentChunk = []\n",
    "        currentChunk.append(d[1]) # assuming the first vakue is always garbage 0\n",
    "    # you should feel really bad about this\n",
    "    return list(filter(lambda k: len(k)>0,chunkedSignals))\n",
    "    "
   ]
  },
  {
   "cell_type": "code",
   "execution_count": 81,
   "metadata": {
    "collapsed": true
   },
   "outputs": [],
   "source": [
    "# useless right now :)\n",
    "from itertools import groupby\n",
    "\n",
    "def runlength(data):\n",
    "    return [(c,len(list(cgen))) for c,cgen in groupby(data)]"
   ]
  },
  {
   "cell_type": "code",
   "execution_count": 174,
   "metadata": {
    "collapsed": true
   },
   "outputs": [],
   "source": [
    "def inferRunlength(data, dt=200):\n",
    "    return [round((b[1][0]-b[0][0])/200) for b in window(data,n=2)]"
   ]
  },
  {
   "cell_type": "code",
   "execution_count": 197,
   "metadata": {
    "collapsed": true
   },
   "outputs": [],
   "source": [
    "from itertools import starmap\n",
    "\n",
    "def plotTracesOverlaid(data):\n",
    "    '''plot everything overlaid, obviously.\n",
    "    data is [[(t0,v0)...(tn,vn)],[],...]'''\n",
    "    list(starmap(plt.plot,map(steppy, map(timeBaseline,data))))\n",
    "    plt.ylim(-0.5, 1.5)\n",
    "    plt.xlim(xmin=0);\n",
    "    plt.xticks(list(range(-1000,10000,200)));\n",
    "    plt.grid(b=1,axis='x')"
   ]
  },
  {
   "cell_type": "code",
   "execution_count": 194,
   "metadata": {
    "collapsed": true
   },
   "outputs": [],
   "source": [
    "def plotTraceWithRunlength(data, dt=200):\n",
    "    '''plot trace with runlength, obviously\n",
    "    data is [(t0,v0)...(tn,vn)]'''\n",
    "    plt.plot(*steppy(timeBaseline(data)))\n",
    "    plt.ylim(-0.25, 1.25)\n",
    "    plt.xlim(xmin=-1000)\n",
    "    list(map(lambda k: plt.annotate(k[1],k[0],fontsize=24),zip(timeBaseline(data),inferRunlength(data))))\n",
    "    plt.xticks(list(range(-1000,10000,200)));\n",
    "    plt.grid(b=1,axis='x')"
   ]
  },
  {
   "cell_type": "code",
   "execution_count": 201,
   "metadata": {
    "collapsed": true
   },
   "outputs": [],
   "source": [
    "def averageTraces(data):\n",
    "    '''average the timestamps of corresponding points in traces'''\n",
    "    raise NotImplementedError"
   ]
  },
  {
   "cell_type": "code",
   "execution_count": 192,
   "metadata": {
    "collapsed": false
   },
   "outputs": [
    {
     "data": {
      "image/png": "[encoded data removed]",
      "text/plain": [
       "<matplotlib.figure.Figure at 0x7fc4ef245240>"
      ]
     },
     "metadata": {},
     "output_type": "display_data"
    },
    {
     "data": {
      "image/png": "[encoded data removed]",
      "text/plain": [
       "<matplotlib.figure.Figure at 0x7fc4fb6e30f0>"
      ]
     },
     "metadata": {},
     "output_type": "display_data"
    },
    {
     "data": {
      "image/png": "[encoded data removed]",
      "text/plain": [
       "<matplotlib.figure.Figure at 0x7fc4ef9e1c18>"
      ]
     },
     "metadata": {},
     "output_type": "display_data"
    },
    {
     "data": {
      "image/png": "[encoded data removed]",
      "text/plain": [
       "<matplotlib.figure.Figure at 0x7fc4efeb9c18>"
      ]
     },
     "metadata": {},
     "output_type": "display_data"
    }
   ],
   "source": [
    "for d in x:\n",
    "    plt.figure()\n",
    "    plotTraceWithRunlength(d)"
   ]
  },
  {
   "cell_type": "code",
   "execution_count": 200,
   "metadata": {
    "collapsed": false
   },
   "outputs": [
    {
     "data": {
      "image/png": "[encoded data removed]",
      "text/plain": [
       "<matplotlib.figure.Figure at 0x7fc4ef868f60>"
      ]
     },
     "metadata": {},
     "output_type": "display_data"
    }
   ],
   "source": [
    "plotTracesOverlaid(chunkSignals(mico.data))"
   ]
  },
  {
   "cell_type": "code",
   "execution_count": null,
   "metadata": {
    "collapsed": true
   },
   "outputs": [],
   "source": []
  }
 ],
 "metadata": {
  "kernelspec": {
   "display_name": "Python 3",
   "language": "python",
   "name": "python3"
  },
  "language_info": {
   "codemirror_mode": {
    "name": "ipython",
    "version": 3
   },
   "file_extension": ".py",
   "mimetype": "text/x-python",
   "name": "python",
   "nbconvert_exporter": "python",
   "pygments_lexer": "ipython3",
   "version": "3.4.3"
  }
 },
 "nbformat": 4,
 "nbformat_minor": 0
}
